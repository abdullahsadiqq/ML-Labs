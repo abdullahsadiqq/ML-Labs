{
  "cells": [
    {
      "cell_type": "code",
      "execution_count": 1,
      "id": "9949f3f9-c0d5-4d7e-9ac5-baf10ebb4ca8",
      "metadata": {
        "id": "9949f3f9-c0d5-4d7e-9ac5-baf10ebb4ca8"
      },
      "outputs": [],
      "source": [
        "import csv\n",
        "import random\n",
        "import math\n",
        "import pandas as pd\n",
        "import matplotlib.pyplot as plt\n",
        "from collections import defaultdict, Counter"
      ]
    },
    {
      "cell_type": "code",
      "execution_count": 2,
      "id": "0a02810b-4d01-46a3-a18a-e6bfe35987f8",
      "metadata": {
        "id": "0a02810b-4d01-46a3-a18a-e6bfe35987f8"
      },
      "outputs": [],
      "source": [
        "file_name = \"lab_vehicle.csv\"\n",
        "def read_csv(file_name):\n",
        "    with open(file_name, 'r') as file:\n",
        "        reader = csv.reader(file)\n",
        "        header = next(reader)\n",
        "        data = []\n",
        "        for row in reader:\n",
        "            data.append([float(value) for value in row])\n",
        "    return data"
      ]
    },
    {
      "cell_type": "code",
      "execution_count": 3,
      "id": "1d358c77-f813-4a1f-8dcc-a1ea4da46f18",
      "metadata": {
        "id": "1d358c77-f813-4a1f-8dcc-a1ea4da46f18"
      },
      "outputs": [],
      "source": [
        "def euclidean_distance(p1, p2):\n",
        "    return math.sqrt(sum((x - y) ** 2 for x, y in zip(p1, p2)))"
      ]
    },
    {
      "cell_type": "code",
      "execution_count": 4,
      "id": "47536ef9-28be-4979-94df-f993baa34444",
      "metadata": {
        "id": "47536ef9-28be-4979-94df-f993baa34444"
      },
      "outputs": [],
      "source": [
        "def initialize_centroids(data, k):\n",
        "    return random.sample(data, k)"
      ]
    },
    {
      "cell_type": "code",
      "execution_count": 5,
      "id": "21cb56f8-f1dc-4428-8858-d452ad8a16b4",
      "metadata": {
        "id": "21cb56f8-f1dc-4428-8858-d452ad8a16b4"
      },
      "outputs": [],
      "source": [
        "def assign_clusters(data, centroids):\n",
        "    clusters = [[] for _ in centroids]\n",
        "    for point in data:\n",
        "        distances = [euclidean_distance(point, centroid) for centroid in centroids]\n",
        "        closest = distances.index(min(distances))\n",
        "        clusters[closest].append(point)\n",
        "    return clusters"
      ]
    },
    {
      "cell_type": "code",
      "execution_count": 7,
      "id": "dee77822-fbe6-45e4-9d30-44497362c673",
      "metadata": {
        "id": "dee77822-fbe6-45e4-9d30-44497362c673"
      },
      "outputs": [],
      "source": [
        "def update_centroids(clusters):\n",
        "    centroids = []\n",
        "    for cluster in clusters:\n",
        "        if cluster:\n",
        "            centroid = [sum(dim) / len(cluster) for dim in zip(*cluster)]\n",
        "            centroids.append(centroid)\n",
        "        else:\n",
        "            centroids.append([0]*len(clusters[0][0]))\n",
        "    return centroids"
      ]
    },
    {
      "cell_type": "code",
      "execution_count": 8,
      "id": "66d919ae-cdf5-4ec3-8fe6-6013b4b60eb2",
      "metadata": {
        "id": "66d919ae-cdf5-4ec3-8fe6-6013b4b60eb2"
      },
      "outputs": [],
      "source": [
        "def kmeans(data, k, iterations=100):\n",
        "    centroids = initialize_centroids(data, k)\n",
        "    for _ in range(iterations):\n",
        "        clusters = assign_clusters(data, centroids)\n",
        "        new_centroids = update_centroids(clusters)\n",
        "        if new_centroids == centroids:\n",
        "            break\n",
        "        centroids = new_centroids\n",
        "    return centroids, clusters"
      ]
    },
    {
      "cell_type": "code",
      "execution_count": 9,
      "id": "c22af2f8-c922-4aab-b7fe-1b99ed49ea60",
      "metadata": {
        "id": "c22af2f8-c922-4aab-b7fe-1b99ed49ea60"
      },
      "outputs": [],
      "source": [
        "def calculate_inertia(data, centroids, clusters):\n",
        "    inertia = 0\n",
        "    for i, cluster in enumerate(clusters):\n",
        "        for point in cluster:\n",
        "            inertia += euclidean_distance(point, centroids[i]) ** 2\n",
        "    return inertia"
      ]
    },
    {
      "cell_type": "code",
      "execution_count": 11,
      "id": "8ff44fe8-359b-40a3-aadb-c100427de489",
      "metadata": {
        "id": "8ff44fe8-359b-40a3-aadb-c100427de489"
      },
      "outputs": [],
      "source": [
        "def elbow_method(data, max_k=10):\n",
        "    inertias = []\n",
        "    for k in range(1, max_k + 1):\n",
        "        centroids, clusters = kmeans(data, k)\n",
        "        inertia = calculate_inertia(data, centroids, clusters)\n",
        "        inertias.append(inertia)\n",
        "    plt.plot(range(1, max_k + 1), inertias, marker='o')\n",
        "    plt.title(\"Elbow Method\")\n",
        "    plt.xlabel(\"Number of Clusters\")\n",
        "    plt.ylabel(\"Inertia\")\n",
        "    plt.show()\n",
        "    return inertias"
      ]
    },
    {
      "cell_type": "code",
      "execution_count": 12,
      "id": "44fee5d0-224f-4c1c-a536-150412ed49f1",
      "metadata": {
        "id": "44fee5d0-224f-4c1c-a536-150412ed49f1"
      },
      "outputs": [],
      "source": [
        "def silhouette_score(data, labels):\n",
        "    n = len(data)\n",
        "    unique_labels = set(labels)\n",
        "    score_total = 0\n",
        "\n",
        "    for i in range(n):\n",
        "        same_cluster = [data[j] for j in range(n) if labels[j] == labels[i] and j != i]\n",
        "        other_clusters = [data[j] for j in range(n) if labels[j] != labels[i]]\n",
        "        a = sum(euclidean_distance(data[i], p) for p in same_cluster) / len(same_cluster) if same_cluster else 0\n",
        "        b = float('inf')\n",
        "        for label in unique_labels:\n",
        "            if label != labels[i]:\n",
        "                other_points = [data[j] for j in range(n) if labels[j] == label]\n",
        "                b = min(b, sum(euclidean_distance(data[i], p) for p in other_points) / len(other_points))\n",
        "        s = (b - a) / max(a, b) if max(a, b) != 0 else 0\n",
        "        score_total += s\n",
        "    return score_total / n"
      ]
    },
    {
      "cell_type": "code",
      "execution_count": 13,
      "id": "d96a7f01-d71b-47b6-b1e5-386b0fde1140",
      "metadata": {
        "id": "d96a7f01-d71b-47b6-b1e5-386b0fde1140"
      },
      "outputs": [],
      "source": [
        "def davies_bouldin_index(clusters, centroids):\n",
        "    k = len(clusters)\n",
        "    scatters = []\n",
        "    for i in range(k):\n",
        "        scatter = sum(euclidean_distance(p, centroids[i]) for p in clusters[i]) / len(clusters[i]) if clusters[i] else 0\n",
        "        scatters.append(scatter)\n",
        "\n",
        "    db_index = 0\n",
        "    for i in range(k):\n",
        "        max_rij = 0\n",
        "        for j in range(k):\n",
        "            if i != j:\n",
        "                rij = (scatters[i] + scatters[j]) / euclidean_distance(centroids[i], centroids[j])\n",
        "                max_rij = max(max_rij, rij)\n",
        "        db_index += max_rij\n",
        "    return db_index / k"
      ]
    },
    {
      "cell_type": "code",
      "execution_count": 14,
      "id": "60c6a4a5-59e6-44bf-ba5e-134056873940",
      "metadata": {
        "id": "60c6a4a5-59e6-44bf-ba5e-134056873940"
      },
      "outputs": [],
      "source": [
        "def calinski_harabasz_index(data, clusters, centroids):\n",
        "    k = len(clusters)\n",
        "    n = len(data)\n",
        "    overall_mean = [sum(dim) / n for dim in zip(*data)]\n",
        "    B = sum(len(clusters[i]) * euclidean_distance(centroids[i], overall_mean) ** 2 for i in range(k))\n",
        "    W = sum(sum(euclidean_distance(p, centroids[i]) ** 2 for p in clusters[i]) for i in range(k))\n",
        "    return (B / (k - 1)) / (W / (n - k)) if W != 0 else 0"
      ]
    },
    {
      "cell_type": "code",
      "execution_count": 15,
      "id": "ce3caf9e-c6bf-476b-b746-c5eafcef89eb",
      "metadata": {
        "id": "ce3caf9e-c6bf-476b-b746-c5eafcef89eb"
      },
      "outputs": [],
      "source": [
        "def main():\n",
        "    file_name = \"lab_vehicle.csv\"\n",
        "    data = read_csv(file_name)\n",
        "\n",
        "    print(\"Running Elbow Method...\")\n",
        "    inertias = elbow_method(data, max_k=10)\n",
        "\n",
        "    k = 2\n",
        "    centroids, clusters = kmeans(data, k)\n",
        "    labels = [i for i, cluster in enumerate(clusters) for _ in cluster]\n",
        "\n",
        "    flat_data = [point for cluster in clusters for point in cluster]\n",
        "\n",
        "    print(f\"\\nSilhouette Score: {silhouette_score(flat_data, labels):.4f}\")\n",
        "    print(f\"Davies-Bouldin Index: {davies_bouldin_index(clusters, centroids):.4f}\")\n",
        "    print(f\"Calinski-Harabasz Index: {calinski_harabasz_index(flat_data, clusters, centroids):.4f}\")\n"
      ]
    },
    {
      "cell_type": "code",
      "execution_count": 16,
      "id": "fa7b5725-2728-4a76-ad6d-63e119180877",
      "metadata": {
        "colab": {
          "base_uri": "https://localhost:8080/",
          "height": 559
        },
        "id": "fa7b5725-2728-4a76-ad6d-63e119180877",
        "outputId": "6dec5968-6d25-4a29-b822-c7339b68cf67"
      },
      "outputs": [
        {
          "output_type": "stream",
          "name": "stdout",
          "text": [
            "Running Elbow Method...\n"
          ]
        },
        {
          "output_type": "display_data",
          "data": {
            "text/plain": [
              "<Figure size 640x480 with 1 Axes>"
            ],
            "image/png": "[encoded data removed]"
          },
          "metadata": {}
        },
        {
          "output_type": "stream",
          "name": "stdout",
          "text": [
            "\n",
            "Silhouette Score: 0.6735\n",
            "Davies-Bouldin Index: 0.4479\n",
            "Calinski-Harabasz Index: 2722.5059\n"
          ]
        }
      ],
      "source": [
        "if __name__ == \"__main__\":\n",
        "    main()"
      ]
    },
    {
      "cell_type": "code",
      "execution_count": 23,
      "id": "83ba05ef-623a-4e57-be88-08542794df1a",
      "metadata": {
        "id": "83ba05ef-623a-4e57-be88-08542794df1a"
      },
      "outputs": [],
      "source": [
        "data_wholesale = read_csv('wholesale_data.csv')"
      ]
    },
    {
      "cell_type": "code",
      "execution_count": 24,
      "id": "19eed194-0a44-46f0-97d8-985bcf5bec4d",
      "metadata": {
        "id": "19eed194-0a44-46f0-97d8-985bcf5bec4d"
      },
      "outputs": [],
      "source": [
        "#skipping the 'Channel' and 'Region' columns\n",
        "def read_csv_skip_first_two(file_name):\n",
        "    with open(file_name, 'r') as file:\n",
        "        reader = csv.reader(file)\n",
        "        header = next(reader)\n",
        "        data = []\n",
        "        for row in reader:\n",
        "            data.append([float(value) for value in row[2:]])  #starts from the 3rd column\n",
        "    return data"
      ]
    },
    {
      "cell_type": "code",
      "execution_count": 27,
      "id": "feccc1f9-f903-4d6d-b541-f0fe4de82674",
      "metadata": {
        "id": "feccc1f9-f903-4d6d-b541-f0fe4de82674"
      },
      "outputs": [],
      "source": [
        "def main():\n",
        "    file_name = \"wholesale_data.csv\"\n",
        "    data_wholesale = read_csv_skip_first_two(file_name)\n",
        "\n",
        "    print(\"Running Elbow Method for Wholesale Customers Dataset...\")\n",
        "    elbow_method(data_wholesale, max_k=10)\n",
        "\n",
        "    k = 2\n",
        "\n",
        "    centroids_w, clusters_w = kmeans(data_wholesale, k)\n",
        "\n",
        "\n",
        "    labels_w = [i for i, cluster in enumerate(clusters_w) for _ in cluster]\n",
        "    flat_data_w = [point for cluster in clusters_w for point in cluster]\n",
        "\n",
        "    print(f\"\\nSilhouette Score (Wholesale): {silhouette_score(flat_data_w, labels_w):.4f}\")\n",
        "    print(f\"Davies-Bouldin Index (Wholesale): {davies_bouldin_index(clusters_w, centroids_w):.4f}\")\n",
        "    print(f\"Calinski-Harabasz Index (Wholesale): {calinski_harabasz_index(flat_data_w, clusters_w, centroids_w):.4f}\")"
      ]
    },
    {
      "cell_type": "code",
      "execution_count": 28,
      "id": "c0d892b8-8edf-466f-bba0-d8e11e7ad502",
      "metadata": {
        "colab": {
          "base_uri": "https://localhost:8080/",
          "height": 559
        },
        "id": "c0d892b8-8edf-466f-bba0-d8e11e7ad502",
        "outputId": "4a80f1c6-6efd-4128-8d2f-567409664b2a"
      },
      "outputs": [
        {
          "output_type": "stream",
          "name": "stdout",
          "text": [
            "Running Elbow Method for Wholesale Customers Dataset...\n"
          ]
        },
        {
          "output_type": "display_data",
          "data": {
            "text/plain": [
              "<Figure size 640x480 with 1 Axes>"
            ],
            "image/png": "[encoded data removed]"
          },
          "metadata": {}
        },
        {
          "output_type": "stream",
          "name": "stdout",
          "text": [
            "\n",
            "Silhouette Score (Wholesale): 0.4585\n",
            "Davies-Bouldin Index (Wholesale): 1.0934\n",
            "Calinski-Harabasz Index (Wholesale): 139.3301\n"
          ]
        }
      ],
      "source": [
        "if __name__ == \"__main__\":\n",
        "    main()"
      ]
    }
  ],
  "metadata": {
    "kernelspec": {
      "display_name": "Python 3 (ipykernel)",
      "language": "python",
      "name": "python3"
    },
    "language_info": {
      "codemirror_mode": {
        "name": "ipython",
        "version": 3
      },
      "file_extension": ".py",
      "mimetype": "text/x-python",
      "name": "python",
      "nbconvert_exporter": "python",
      "pygments_lexer": "ipython3",
      "version": "3.11.7"
    },
    "colab": {
      "provenance": []
    }
  },
  "nbformat": 4,
  "nbformat_minor": 5
}